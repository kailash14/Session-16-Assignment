{
 "cells": [
  {
   "cell_type": "markdown",
   "metadata": {},
   "source": [
    "## Statistics 2\n",
    "\n",
    "#### 1.  A test is conducted which is consisting of 20 MCQs (multiple choices questions) with every MCQ having its four options out of which only one is correct. Determine the probability that a person undertaking that test has answered exactly 5 questions wrong."
   ]
  },
  {
   "cell_type": "code",
   "execution_count": 1,
   "metadata": {},
   "outputs": [],
   "source": [
    "import numpy as np\n",
    "import pandas as pd\n",
    "import scipy.stats as stats"
   ]
  },
  {
   "cell_type": "code",
   "execution_count": null,
   "metadata": {},
   "outputs": [],
   "source": [
    "# Total Number of Mulitiple Choices Questions[MCQ] = n\n",
    "n = 20\n",
    "\n",
    "# MCQ having its four options out of which only one is correct gives Probability of giving a right answer = s\n",
    "s = 1/4\n",
    "\n",
    "# Probability that a person answers 5 questions wrong n - k = 20 - 15 = 5\n",
    "x = 5\n",
    "\n",
    "# Probability of giving a wrong answer => [1 - s = 1 - 1/4 = 3/4]\n",
    "\n",
    "#Bernoulli's Principle\n",
    "#P (‘k’ successes in ‘n’ trials) = n!(k!(n−k)!)s^k(1−s)^(n−k)\n",
    "\n",
    "# Probability p = (exactly 5 incorrect answers out of 20 answers ) = C (20, 5) * (1/4)^15 * (3/4)^5\n",
    "# Probability p = ((20*19) ∗ (18 ∗ 17) ∗ 16) / (5 ∗ 4 ∗ 3 ∗ 2 ∗ 1) * (1/4)^15 * (3/4)^5\n",
    "\n",
    "# 0.0000034 (approximately)\n",
    "\n",
    "p=(20*19*18*17*16)/(5*4*3*2*1)*(1/4)**15*(3/4)**5\n",
    "p"
   ]
  },
  {
   "cell_type": "markdown",
   "metadata": {},
   "source": [
    "##### 3.4264958230778575e-06 = 0.0000034 "
   ]
  },
  {
   "cell_type": "markdown",
   "metadata": {},
   "source": [
    "#### 2. A die marked A to E is rolled 50 times. Find the probability of getting a “D” exactly 5 times. "
   ]
  },
  {
   "cell_type": "code",
   "execution_count": 4,
   "metadata": {},
   "outputs": [
    {
     "name": "stdout",
     "output_type": "stream",
     "text": [
      "The probability of getting a D exactly 5 times is 7.450225899286409\n"
     ]
    }
   ],
   "source": [
    "# Total Number of Die rolls = n\n",
    "n = 50\n",
    "# Probability that a person answers 5 questions wrong n - k = 50 - 5 = 45\n",
    "x = 5\n",
    "#Probability of getting a 'D' = s\n",
    "s = 1/6\n",
    "#Probability of not getting a 'D' = (1 - s = 5/6)\n",
    "#Bernoulli's Principle\n",
    "#P (‘k’ successes in ‘n’ trials) = n!(k!(n−k)!)s^k(1−s)^(n−k)\n",
    "\n",
    "# Probability p = (exactly 5 Ds of 50 rolls) = C (50, 5) * (1/6)^5 * (5/6)^45\n",
    "\n",
    "p = (50*49*48*47*46)/(5*4*3*2*1)*(1/6)**5*(5/6)**45\n",
    "print('The probability of getting a D exactly 5 times is', p*100)\n",
    "\n",
    "\n"
   ]
  },
  {
   "cell_type": "markdown",
   "metadata": {},
   "source": [
    "#### 3. Two balls are drawn at random in succession without replacement from an urn containing 4 red balls and 6 black balls. Find the probabilities of all the possible outcomes. "
   ]
  },
  {
   "cell_type": "code",
   "execution_count": 6,
   "metadata": {},
   "outputs": [
    {
     "name": "stdout",
     "output_type": "stream",
     "text": [
      "RR = 12\n",
      "RB = 24\n",
      "BR = 24\n",
      "BB = 30\n"
     ]
    }
   ],
   "source": [
    "#Total balls = 10\n",
    "# Possible outcomes = RR, RB, BR, BB\n",
    "#WITHOUT REPLACEMENT\n",
    "\n",
    "print('RR =',4*3)\n",
    "print('RB =',4*6)\n",
    "print('BR =',6*4)\n",
    "print('BB =',6*5)"
   ]
  },
  {
   "cell_type": "code",
   "execution_count": 9,
   "metadata": {},
   "outputs": [
    {
     "data": {
      "text/plain": [
       "90"
      ]
     },
     "execution_count": 9,
     "metadata": {},
     "output_type": "execute_result"
    }
   ],
   "source": [
    "Total_possible_outcomes = (12+24+24+30)\n",
    "Total_possible_outcomes"
   ]
  },
  {
   "cell_type": "code",
   "execution_count": null,
   "metadata": {},
   "outputs": [],
   "source": []
  }
 ],
 "metadata": {
  "kernelspec": {
   "display_name": "Python 3",
   "language": "python",
   "name": "python3"
  },
  "language_info": {
   "codemirror_mode": {
    "name": "ipython",
    "version": 3
   },
   "file_extension": ".py",
   "mimetype": "text/x-python",
   "name": "python",
   "nbconvert_exporter": "python",
   "pygments_lexer": "ipython3",
   "version": "3.6.4"
  }
 },
 "nbformat": 4,
 "nbformat_minor": 2
}
